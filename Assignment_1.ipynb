{
  "cells": [
    {
      "cell_type": "markdown",
      "metadata": {
        "id": "JY-rGUPk8BRa"
      },
      "source": [
        "<h1><center>CSEN1022:Assignment 1</center></h1>\n",
        "<h3><center>Winter 2021</center></h3>\n",
        "<hr style=\"border:2px solid black\"> </hr>"
      ]
    },
    {
      "cell_type": "markdown",
      "metadata": {
        "id": "Anmi_3Pt8BRb"
      },
      "source": [
        "## <u> Please don't forget to fill in this data </u>\n",
        "**Member 1**\n",
        "\n",
        "Name: Karim Ebrahim\n",
        "\n",
        "GUC-ID: 43-0414\n",
        "\n",
        "Elective Tutorial No.: T-011\n",
        "\n",
        "**Member 2**\n",
        "\n",
        "Name: Shadi Nakhla\n",
        "\n",
        "GUC-ID: 43-411\n",
        "\n",
        "Elective Tutorial No.: T-011\n",
        "\n",
        "<hr style=\"border:2px solid black\"> </hr>"
      ]
    },
    {
      "cell_type": "markdown",
      "metadata": {
        "id": "fgW_b1808BRc"
      },
      "source": [
        "## Imports (Don't Edit)"
      ]
    },
    {
      "cell_type": "code",
      "execution_count": 6,
      "metadata": {
        "id": "yoENBLL98BRc"
      },
      "outputs": [],
      "source": [
        "# ONLY USE THESE IMPORTS.\n",
        "# PLEASE DON'T EDIT THIS CELL.\n",
        "import numpy as np\n",
        "import matplotlib.pyplot as plt\n",
        "%matplotlib inline"
      ]
    },
    {
      "cell_type": "markdown",
      "metadata": {
        "id": "DGAgCGRl8BRd"
      },
      "source": [
        "## Read Data (Edit)"
      ]
    },
    {
      "cell_type": "code",
      "execution_count": 9,
      "metadata": {
        "id": "4lChzmoy8BRd"
      },
      "outputs": [],
      "source": [
        "def fillMatrixNormalized (type):\n",
        "  matrix = np.array([plt.imread('Data/train/'+type+\"/\" +str(i)+'.jpg').reshape(-1) for i in range (0,5000)])\n",
        "    \n",
        "  matrix = np.true_divide(matrix, 255)\n",
        "  return(matrix)\n",
        "def fillMatrixNormalizedGray (type, size):\n",
        "  matrix = np.array([plt.imread('Data/train/'+type+\"/\" +str(i)+'.jpg').reshape(-1) for i in range (0,5000)])\n",
        "    \n",
        "  matrix = np.true_divide(matrix, 255) \n",
        "  matrix2= np.empty([size,1024])\n",
        "  for i in range(0,size):\n",
        "    for j in range (0,3072,3):\n",
        "      matrix2[i][j//3] = (matrix[i][j]*0.3) + (matrix[i][j+1]*0.59)  + (matrix[i][j+2]*0.11)\n",
        "  return(matrix2)\n",
        "\n",
        "def test (type):\n",
        "  matrix = np.array([plt.imread('Data/test/'+type+\"/\" +str(i)+'.jpg').reshape(-1) for i in range (0,1000)])\n",
        "    \n",
        "  return(matrix)\n",
        "def testGray (type):\n",
        "  matrix = np.array([plt.imread('Data/test/'+type+\"/\" +str(i)+'.jpg').reshape(-1) for i in range (0,1000)])\n",
        "    \n",
        "  matrix = np.true_divide(matrix, 255) \n",
        "  matrix2= np.empty([1000,1024])\n",
        "  for i in range(0,1000):\n",
        "    for j in range (0,3072,3):\n",
        "      matrix2[i][j//3] = (matrix[i][j]*0.3) + (matrix[i][j+1]*0.59)  + (matrix[i][j+2]*0.11)\n",
        "  return(matrix2)\n",
        "def fillMatrixNormalizedNot (type1,type2):\n",
        "  matrix = np.zeros(shape=(10000,3072))\n",
        "\n",
        "  for i in range(0,5000):\n",
        "    matrix[i] = np.array([plt.imread(\"Data/train/\"+type1+\"/\"+str(i)+\".jpg\").reshape(-1)])\n",
        "    matrix[i+5000] = np.array([plt.imread(\"Data/train/\"+type2+\"/\"+str(i)+\".jpg\").reshape(-1)])\n",
        "  matrix = np.true_divide(matrix, 255)\n",
        "  return(matrix)\n",
        "def meanCalculator (matrix):\n",
        "  return(matrix.mean(axis=0))\n",
        "def calculateSw(filledMatrix,m_a):\n",
        "  vertex = (filledMatrix - m_a)\n",
        "  sw_a = vertex.T @ vertex\n",
        "  return(sw_a)\n",
        "\n",
        "filledMatrixA = (fillMatrixNormalized(\"airplane\"))\n",
        "filledMatrixF = (fillMatrixNormalized(\"frog\"))\n",
        "filledMatrixM = (fillMatrixNormalized(\"automobile\"))\n",
        "filledMatrixNotA = np.concatenate((filledMatrixM,filledMatrixF), axis=0)\n",
        "filledMatrixNotF = np.concatenate((filledMatrixA, filledMatrixM), axis=0)\n",
        "filledMatrixNotM = np.concatenate((filledMatrixA, filledMatrixF), axis=0)\n",
        "filledMatrixAGray = (fillMatrixNormalizedGray(\"airplane\",5000))\n",
        "filledMatrixFGray = (fillMatrixNormalizedGray(\"frog\",5000))\n",
        "filledMatrixMGray = (fillMatrixNormalizedGray(\"automobile\",5000))\n",
        "filledMatrixNotAGray = np.concatenate((filledMatrixFGray, filledMatrixMGray), axis=0)\n",
        "filledMatrixNotFGray = np.concatenate((filledMatrixAGray, filledMatrixMGray), axis=0)\n",
        "filledMatrixNotMGray = np.concatenate((filledMatrixAGray, filledMatrixFGray), axis=0)\n"
      ]
    },
    {
      "cell_type": "markdown",
      "metadata": {
        "id": "IFhl9B378BRd"
      },
      "source": [
        "<hr style=\"border:2px solid black\"> </hr>\n",
        "\n",
        "## Construct Fischer's Linear Discriminant classifier for each of the 3 classes.\n",
        "#### Test each classifier on all images in X_Test. \n",
        "#### Construct Confusion Matrix."
      ]
    },
    {
      "cell_type": "code",
      "execution_count": 10,
      "metadata": {
        "colab": {
          "base_uri": "https://localhost:8080/"
        },
        "id": "V068NvHw8BRd",
        "outputId": "7ca2a6ee-0e0f-43c2-c913-208f235401e9"
      },
      "outputs": [
        {
          "name": "stdout",
          "output_type": "stream",
          "text": [
            "[[760  96 144]\n",
            " [ 78 788 134]\n",
            " [201 145 654]]\n"
          ]
        }
      ],
      "source": [
        "# Write code here\n",
        "# Train\n",
        "# Test\n",
        "# confusion_matrix = \n",
        "m_a = (meanCalculator(filledMatrixA))\n",
        "sw_a = calculateSw(filledMatrixA,m_a)\n",
        "m_not_a = meanCalculator(filledMatrixNotA)\n",
        "sw_not_a = calculateSw(filledMatrixNotA, m_not_a)\n",
        "swAir = sw_a + sw_not_a\n",
        "swAirInv = np.linalg.pinv(swAir)\n",
        "C_air = swAirInv @ (m_a - m_not_a)\n",
        "C_airTranspose = np.transpose(C_air)\n",
        "wNodeAirClassifier = C_airTranspose @ (-0.5*(m_a + m_not_a))\n",
        "m_f = (meanCalculator(filledMatrixF))\n",
        "sw_f = calculateSw(filledMatrixF,m_f)\n",
        "m_not_f = meanCalculator(filledMatrixNotF)\n",
        "sw_not_f = calculateSw(filledMatrixNotF, m_not_f)\n",
        "swFrog = sw_f + sw_not_f\n",
        "swFrogInv = np.linalg.pinv(swFrog)\n",
        "C_frog = swFrogInv @ (m_f - m_not_f)\n",
        "wNodeFrogClassifier = C_frog.transpose() @ (-0.5*(m_f + m_not_f))\n",
        "m_m = (meanCalculator(filledMatrixM))\n",
        "sw_m = calculateSw(filledMatrixM,m_m)\n",
        "m_not_m = meanCalculator(filledMatrixNotM)\n",
        "sw_not_m = calculateSw(filledMatrixNotM, m_not_m)\n",
        "swCar = sw_m + sw_not_m\n",
        "swCarInv = np.linalg.pinv(swCar)\n",
        "C_car = swCarInv @ (m_m - m_not_m)\n",
        "wNodeCarClassifier = C_car.transpose() @ (-0.5*(m_m + m_not_m))\n",
        "\n",
        "confusion_matrix = [[],[],[]]\n",
        "aCount = 0\n",
        "fCount = 0\n",
        "cCount = 0\n",
        "type = 'airplane'\n",
        "matrix = np.array([plt.imread('Data/test/'+type+\"/\" +str(i)+'.jpg').reshape(-1) for i in range (0,1000)])\n",
        "matrix = np.true_divide(matrix, 255)\n",
        "for i in matrix:\n",
        "  aValue = C_air.transpose()@ i + wNodeAirClassifier\n",
        "  fValue = C_frog.transpose()@ i + wNodeFrogClassifier\n",
        "  cValue = C_car.transpose()@ i + wNodeCarClassifier\n",
        "  arr = [aValue , fValue , cValue]\n",
        "  max = np.max(arr)\n",
        "  if(max == aValue):\n",
        "    aCount+=1\n",
        "  if(max == fValue):\n",
        "    fCount+=1\n",
        "  if(max == cValue):\n",
        "    cCount+=1\n",
        "confusion_matrix[0] = [aCount, fCount, cCount] \n",
        "\n",
        "aCount = 0\n",
        "fCount = 0\n",
        "cCount = 0\n",
        "type = 'frog'\n",
        "matrix = np.array([plt.imread('Data/test/'+type+\"/\" +str(i)+'.jpg').reshape(-1) for i in range (0,1000)])\n",
        "matrix = np.true_divide(matrix, 255)\n",
        "for i in matrix:\n",
        "  aValue = C_air.transpose()@ i + wNodeAirClassifier\n",
        "  fValue = C_frog.transpose()@ i + wNodeFrogClassifier\n",
        "  cValue = C_car.transpose()@ i + wNodeCarClassifier\n",
        "  arr = [aValue , fValue , cValue]\n",
        "  max = np.max(arr)\n",
        "  if(max == aValue):\n",
        "    aCount+=1\n",
        "  if(max == fValue):\n",
        "    fCount+=1\n",
        "  if(max == cValue):\n",
        "    cCount+=1\n",
        "confusion_matrix[1] = [aCount, fCount, cCount] \n",
        "\n",
        "aCount = 0\n",
        "fCount = 0\n",
        "cCount = 0\n",
        "type = 'automobile'\n",
        "matrix = np.array([plt.imread('Data/test/'+type+\"/\" +str(i)+'.jpg').reshape(-1) for i in range (0,1000)])\n",
        "matrix = np.true_divide(matrix, 255)\n",
        "for i in matrix:\n",
        "  aValue = C_air.transpose()@ i + wNodeAirClassifier\n",
        "  fValue = C_frog.transpose() @ i + wNodeFrogClassifier\n",
        "  cValue = C_car.transpose() @ i + wNodeCarClassifier\n",
        "  arr = [aValue , fValue , cValue]\n",
        "  max = np.max(arr)\n",
        "  if(max == aValue):\n",
        "    aCount+=1\n",
        "  if(max == fValue):\n",
        "    fCount+=1\n",
        "  if(max == cValue):\n",
        "    cCount+=1\n",
        "confusion_matrix[2] = [aCount, fCount, cCount]\n",
        "confusion_matrix = np.array(confusion_matrix)\n",
        "X_test = np.concatenate((test(\"airplane\"),test(\"frog\"),test(\"automobile\")),axis=0)\n",
        "X_test = np.true_divide(X_test, 255)\n",
        "print(confusion_matrix)"
      ]
    },
    {
      "cell_type": "markdown",
      "metadata": {
        "id": "Ut6HJtgL8BRd"
      },
      "source": [
        "## Confusion Matrix (Don't Edit)"
      ]
    },
    {
      "cell_type": "code",
      "execution_count": 11,
      "metadata": {
        "colab": {
          "base_uri": "https://localhost:8080/",
          "height": 343
        },
        "id": "0zeaCIp88BRd",
        "outputId": "260ce306-1425-4a8c-f335-121f59e4888c"
      },
      "outputs": [
        {
          "data": {
            "image/png": "[encoded data removed]",
            "text/plain": [
              "<Figure size 360x360 with 1 Axes>"
            ]
          },
          "metadata": {
            "needs_background": "light"
          },
          "output_type": "display_data"
        }
      ],
      "source": [
        "# Make sure the previous cell returns a variable called confusion_matrix\n",
        "# Plot Confusion Matrix\n",
        "accuracy = np.diag(confusion_matrix).sum()/X_test.shape[0]\n",
        "plt.rc('figure', figsize=[5,5])\n",
        "plt.matshow(confusion_matrix,cmap=\"Blues\")\n",
        "plt.title('FLD+RGB = {0:0.3f}'.format(accuracy))\n",
        "for i in range(0,confusion_matrix.shape[0]):\n",
        "    for j in range(0,confusion_matrix.shape[1]):\n",
        "        plt.annotate(confusion_matrix[i,j],(j,i))"
      ]
    },
    {
      "cell_type": "markdown",
      "metadata": {
        "id": "1YcAE9tP8BRe"
      },
      "source": [
        "### Repeat for Grayscale"
      ]
    },
    {
      "cell_type": "code",
      "execution_count": 12,
      "metadata": {
        "colab": {
          "base_uri": "https://localhost:8080/"
        },
        "id": "TQ4Hj5C18BRe",
        "outputId": "bda622d0-9bc7-4059-cac9-6b36587fefca"
      },
      "outputs": [
        {
          "name": "stdout",
          "output_type": "stream",
          "text": [
            "[[673 194 133]\n",
            " [229 538 233]\n",
            " [175 234 591]]\n"
          ]
        }
      ],
      "source": [
        "# Write code here\n",
        "# Train\n",
        "# Test\n",
        "# confusion_matrix = \n",
        "m_aGray = (meanCalculator(filledMatrixAGray))\n",
        "sw_aGray = calculateSw(filledMatrixAGray,m_aGray)\n",
        "m_not_aGray = meanCalculator(filledMatrixNotAGray)\n",
        "sw_not_aGray = calculateSw(filledMatrixNotAGray, m_not_aGray)\n",
        "swAirGray = sw_aGray + sw_not_aGray\n",
        "swAirInvGray = np.linalg.pinv(swAirGray)\n",
        "C_airGray = swAirInvGray @ (m_aGray - m_not_aGray)\n",
        "C_airTransposeGray = np.transpose(C_airGray)\n",
        "wNodeAirClassifierGray = C_airTransposeGray @ (-0.5*(m_aGray + m_not_aGray))\n",
        "m_fGray = (meanCalculator(filledMatrixFGray))\n",
        "sw_fGray = calculateSw(filledMatrixFGray,m_fGray)\n",
        "m_not_fGray = meanCalculator(filledMatrixNotFGray)\n",
        "sw_not_fGray = calculateSw(filledMatrixNotFGray, m_not_fGray)\n",
        "swFrogGray = sw_fGray + sw_not_fGray\n",
        "swFrogInvGray = np.linalg.pinv(swFrogGray)\n",
        "C_frogGray = swFrogInvGray @ (m_fGray - m_not_fGray)\n",
        "C_frogTransposeGray = np.transpose(C_frogGray)\n",
        "wNodeFrogClassifierGray = C_frogTransposeGray @ (-0.5*(m_fGray + m_not_fGray))\n",
        "m_mGray = (meanCalculator(filledMatrixMGray))\n",
        "sw_mGray = calculateSw(filledMatrixMGray,m_mGray)\n",
        "m_not_mGray = meanCalculator(filledMatrixNotMGray)\n",
        "sw_not_mGray = calculateSw(filledMatrixNotMGray, m_not_mGray)\n",
        "swCarGray = sw_mGray + sw_not_mGray\n",
        "swCarInvGray = np.linalg.pinv(swCarGray)\n",
        "C_carGray = swCarInvGray @ (m_mGray - m_not_mGray)\n",
        "C_carTransposeGray = np.transpose(C_carGray)\n",
        "wNodeCarClassifierGray = C_carTransposeGray @ (-0.5*(m_mGray + m_not_mGray))\n",
        "\n",
        "confusion_matrixGray = [[],[],[]]\n",
        "aCountGray = 0\n",
        "fCountGray = 0\n",
        "cCountGray = 0\n",
        "matrix = testGray(\"airplane\")\n",
        "\n",
        "for i in matrix:\n",
        "  \n",
        "  aValueGray = C_airGray.transpose()@ i + wNodeAirClassifierGray\n",
        "  fValueGray = C_frogGray.transpose()@ i + wNodeFrogClassifierGray\n",
        "  cValueGray = C_carGray.transpose()@ i + wNodeCarClassifierGray\n",
        "  arrGray = [aValueGray , fValueGray , cValueGray]\n",
        "  maxGray = np.max(arrGray)\n",
        "  if(maxGray == aValueGray):\n",
        "    aCountGray+=1\n",
        "  if(maxGray == fValueGray):\n",
        "    fCountGray+=1\n",
        "  if(maxGray == cValueGray):\n",
        "    cCountGray+=1\n",
        "confusion_matrixGray[0] = [aCountGray, fCountGray, cCountGray] \n",
        "\n",
        "aCountGray = 0\n",
        "fCountGray = 0\n",
        "cCountGray = 0\n",
        "matrix = testGray(\"frog\")\n",
        "\n",
        "for i in matrix:\n",
        "  aValueGray = C_airGray.transpose()@ i + wNodeAirClassifierGray\n",
        "  fValueGray = C_frogGray.transpose()@ i + wNodeFrogClassifierGray\n",
        "  cValueGray = C_carGray.transpose()@i  + wNodeCarClassifierGray\n",
        "  arrGray = [aValueGray , fValueGray , cValueGray]\n",
        "  maxGray = np.max(arrGray)\n",
        "  if(maxGray == aValueGray):\n",
        "    aCountGray+=1\n",
        "  if(maxGray == fValueGray):\n",
        "    fCountGray+=1\n",
        "  if(maxGray == cValueGray):\n",
        "    cCountGray+=1\n",
        "confusion_matrixGray[1] = [aCountGray, fCountGray, cCountGray] \n",
        "\n",
        "aCountGray = 0\n",
        "fCountGray = 0\n",
        "cCountGray = 0\n",
        "matrix = testGray(\"automobile\")\n",
        "\n",
        "for i in matrix:\n",
        "  aValueGray = C_airGray.transpose()@ i + wNodeAirClassifierGray\n",
        "  fValueGray = C_frogGray.transpose()@ i + wNodeFrogClassifierGray\n",
        "  cValueGray = C_carGray.transpose()@ i + wNodeCarClassifierGray\n",
        "  arrGray = [aValueGray , fValueGray , cValueGray]\n",
        "  maxGray = np.max(arrGray)\n",
        "  if(maxGray == aValueGray):\n",
        "    aCountGray+=1\n",
        "  if(maxGray == fValueGray):\n",
        "    fCountGray+=1\n",
        "  if(maxGray == cValueGray):\n",
        "    cCountGray+=1\n",
        "confusion_matrixGray[2] = [aCountGray, fCountGray, cCountGray]\n",
        "confusion_matrixGray = np.array(confusion_matrixGray)\n",
        "X_testGray = np.concatenate((testGray(\"airplane\"),testGray(\"frog\"),testGray(\"automobile\")),axis=0)\n",
        "X_testGray = np.true_divide(X_testGray, 255)\n",
        "print(confusion_matrixGray)"
      ]
    },
    {
      "cell_type": "markdown",
      "metadata": {
        "id": "U2BFjOxX8BRe"
      },
      "source": [
        "## Confusion Matrix (Don't Edit)"
      ]
    },
    {
      "cell_type": "code",
      "execution_count": 13,
      "metadata": {
        "colab": {
          "base_uri": "https://localhost:8080/",
          "height": 343
        },
        "id": "i7YGzRFK8BRe",
        "outputId": "f7bc8b7a-4ea6-460a-984f-19ebac882931"
      },
      "outputs": [
        {
          "data": {
            "image/png": "[encoded data removed]",
            "text/plain": [
              "<Figure size 360x360 with 1 Axes>"
            ]
          },
          "metadata": {
            "needs_background": "light"
          },
          "output_type": "display_data"
        }
      ],
      "source": [
        "# Make sure the previous cell returns a variable called confusion_matrix\n",
        "# Plot Confusion Matrix\n",
        "accuracy = np.diag(confusion_matrix).sum()/X_test.shape[0]\n",
        "plt.rc('figure', figsize=[5,5])\n",
        "plt.matshow(confusion_matrix,cmap=\"Blues\")\n",
        "plt.title('FLD+GRAY = {0:0.3f}'.format(accuracy))\n",
        "for i in range(0,confusion_matrix.shape[0]):\n",
        "    for j in range(0,confusion_matrix.shape[1]):\n",
        "        plt.annotate(confusion_matrix[i,j],(j,i))"
      ]
    },
    {
      "cell_type": "markdown",
      "metadata": {
        "id": "mdAKaBnB8BRe"
      },
      "source": [
        "<hr style=\"border:2px solid black\"> </hr>\n",
        "\n",
        "## Comment on the change of accuracy between RGB and Grayscale\n",
        "##########\n",
        "\n",
        "Write Comment Here\n",
        "\n",
        "The accuarcy of the detection of the classifiers is higher when using RGB than when using gray scale which makes sense as when the images are converted to gray scale every 3 pixels are combined into 1 leading to less info and less weights for the classifiers in this case resulting in lower accuracy in detection when using gray scale than when using RGB images.\n",
        "##########\n",
        "<hr style=\"border:2px solid black\"> </hr>"
      ]
    }
  ],
  "metadata": {
    "colab": {
      "collapsed_sections": [],
      "name": "Assignment_1.ipynb",
      "provenance": []
    },
    "interpreter": {
      "hash": "31f2aee4e71d21fbe5cf8b01ff0e069b9275f58929596ceb00d14d90e3e16cd6"
    },
    "kernelspec": {
      "display_name": "Python 3",
      "language": "python",
      "name": "python3"
    },
    "language_info": {
      "codemirror_mode": {
        "name": "ipython",
        "version": 3
      },
      "file_extension": ".py",
      "mimetype": "text/x-python",
      "name": "python",
      "nbconvert_exporter": "python",
      "pygments_lexer": "ipython3",
      "version": "3.6.13"
    }
  },
  "nbformat": 4,
  "nbformat_minor": 0
}
